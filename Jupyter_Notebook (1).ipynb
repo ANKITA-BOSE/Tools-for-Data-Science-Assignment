{
  "cells": [
    {
      "cell_type": "markdown",
      "metadata": {
        "id": "Bk-6y4FNwwJL"
      },
      "source": [
        "<center>\n",
        "    <img src=\"https://cf-courses-data.s3.us.cloud-object-storage.appdomain.cloud/IBMDeveloperSkillsNetwork-DS0105EN-SkillsNetwork/labs/Module2/images/SN_web_lightmode.png\" width=\"300\" alt=\"cognitiveclass.ai logo\">\n",
        "</center>\n"
      ]
    },
    {
      "cell_type": "markdown",
      "metadata": {
        "id": "pYez-tmewwJP"
      },
      "source": [
        "#### Add your code below following the instructions given in the course\n"
      ]
    },
    {
      "cell_type": "markdown",
      "source": [
        "# Tools for Data Science"
      ],
      "metadata": {
        "id": "9Hsfnwucxcw-"
      }
    },
    {
      "cell_type": "markdown",
      "source": [
        "I am Ankita Bose. I am currently pursuing MCA."
      ],
      "metadata": {
        "id": "ZnRoNqoHx7VK"
      }
    },
    {
      "cell_type": "markdown",
      "source": [
        "Data Science Languages\n",
        "\n",
        "1.   Python Programming Language\n",
        "2.   R Programming Language\n",
        "3.   Scala\n",
        "4.   SQL\n",
        "\n"
      ],
      "metadata": {
        "id": "B5rHTRSDyNGZ"
      }
    },
    {
      "cell_type": "markdown",
      "source": [
        "Data Science Libraries\n",
        "\n",
        "1.   Pandas\n",
        "2.   TensorFlow\n",
        "3.   NumPy\n",
        "\n"
      ],
      "metadata": {
        "id": "ab7_Zo_qzFpJ"
      }
    },
    {
      "cell_type": "markdown",
      "source": [
        "|Sl.no| Tools |\n",
        "|-----|-------|\n",
        "|1|IBM Watson Studio|\n",
        "|2|Apache Spark|\n",
        "|3|Matlab|"
      ],
      "metadata": {
        "id": "bh4r3MiKznHo"
      }
    },
    {
      "cell_type": "markdown",
      "source": [
        "Arithmetic Expression Examples.<br>5+3=8<br>5-3=2<br>5*3=15<br>6/2=3"
      ],
      "metadata": {
        "id": "C17g_0Fj1kCh"
      }
    },
    {
      "cell_type": "code",
      "source": [
        "\n",
        "5+3"
      ],
      "metadata": {
        "colab": {
          "base_uri": "https://localhost:8080/"
        },
        "id": "eD_2viLF2XV0",
        "outputId": "0f431fa4-cd0a-4319-df23-929b51abdf04"
      },
      "execution_count": 3,
      "outputs": [
        {
          "output_type": "execute_result",
          "data": {
            "text/plain": [
              "8"
            ]
          },
          "metadata": {},
          "execution_count": 3
        }
      ]
    },
    {
      "cell_type": "code",
      "source": [
        "5*3"
      ],
      "metadata": {
        "colab": {
          "base_uri": "https://localhost:8080/"
        },
        "id": "n5Pvm-ct20Ca",
        "outputId": "ef5045a3-13ce-4f97-aac2-e88edd0f207c"
      },
      "execution_count": 4,
      "outputs": [
        {
          "output_type": "execute_result",
          "data": {
            "text/plain": [
              "15"
            ]
          },
          "metadata": {},
          "execution_count": 4
        }
      ]
    },
    {
      "cell_type": "code",
      "source": [
        "minutes = int(input())\n",
        "hours = minutes/60\n",
        "print(hours)\n"
      ],
      "metadata": {
        "colab": {
          "base_uri": "https://localhost:8080/"
        },
        "id": "WmbMX84W2-4b",
        "outputId": "0d4fce78-8a75-42fb-d87c-ee4cf419ce00"
      },
      "execution_count": 5,
      "outputs": [
        {
          "output_type": "stream",
          "name": "stdout",
          "text": [
            "300\n",
            "5.0\n"
          ]
        }
      ]
    },
    {
      "cell_type": "markdown",
      "source": [
        "Tools for Data Science Objectives\n",
        "\n",
        "*   Create data visualizations\n",
        "*   Develop data-driven solutions\n",
        "*   Build predictive models\n",
        "\n"
      ],
      "metadata": {
        "id": "xkHdIPTf3iUQ"
      }
    },
    {
      "cell_type": "markdown",
      "source": [
        "Author-Ankita Bose"
      ],
      "metadata": {
        "id": "jCoFakgh4n_v"
      }
    }
  ],
  "metadata": {
    "kernelspec": {
      "display_name": "Python",
      "language": "python",
      "name": "conda-env-python-py"
    },
    "language_info": {
      "name": ""
    },
    "colab": {
      "provenance": []
    }
  },
  "nbformat": 4,
  "nbformat_minor": 0
}